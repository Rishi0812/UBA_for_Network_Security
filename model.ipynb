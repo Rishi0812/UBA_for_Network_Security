{
 "cells": [
  {
   "cell_type": "code",
   "execution_count": 3,
   "metadata": {},
   "outputs": [],
   "source": [
    "from sklearn.neighbors import KNeighborsClassifier\n",
    "import joblib \n",
    "import os\n",
    "import pandas as pd\n",
    "import warnings\n",
    "from sklearn import metrics\n",
    "from sklearn.model_selection import train_test_split\n",
    "warnings.filterwarnings(\"ignore\")"
   ]
  },
  {
   "cell_type": "code",
   "execution_count": null,
   "metadata": {},
   "outputs": [],
   "source": [
    "csv_file = \"all_data.csv\"\n",
    "path = \"\"  \n",
    "repetition = 10\n",
    "\n",
    "features = [\n",
    "    \"Bwd Packet Length Std\",\n",
    "    \"Flow Bytes/s\",\n",
    "    \"Total Length of Fwd Packets\",\n",
    "    \"Fwd Packet Length Std\",\n",
    "    \"Flow IAT Std\",\n",
    "    \"Flow IAT Min\",\n",
    "    \"Fwd IAT Total\",\n",
    "    \"Label\",\n",
    "]"
   ]
  },
  {
   "cell_type": "code",
   "execution_count": null,
   "metadata": {},
   "outputs": [],
   "source": [
    "df = pd.read_csv(os.path.join(path, csv_file), usecols=features).fillna(0)\n",
    "\n",
    "df[\"Label\"] = (df[\"Label\"] != \"BENIGN\").astype(int)\n",
    " \n",
    "y = df[\"Label\"]\n",
    "X = df.drop(\"Label\", axis=1)"
   ]
  },
  {
   "cell_type": "code",
   "execution_count": null,
   "metadata": {},
   "outputs": [],
   "source": [
    "for i in range(repetition):\n",
    "    X_train, X_test, y_train, y_test = train_test_split(\n",
    "        X, y, test_size=0.20, random_state=i\n",
    "    )\n",
    "\n",
    "    knn = KNeighborsClassifier(n_neighbors=3)\n",
    "    knn.fit(X_train, y_train)\n",
    "\n",
    "    y_pred = knn.predict(X_test)\n",
    "\n",
    "    \n",
    "    accuracy = metrics.accuracy_score(y_test, y_pred)\n",
    "\n",
    "    \n",
    "    precision = metrics.precision_score(y_test, y_pred)\n",
    "    recall = metrics.recall_score(y_test, y_pred)\n",
    "    f1 = metrics.f1_score(y_test, y_pred)\n",
    "\n",
    "    \n",
    "    print(\n",
    "        f\"Accuracy: {accuracy:.4f}, Precision: {precision:.4f}, Recall: {recall:.4f}, F1-Score: {f1:.4f}\"\n",
    "    )\n",
    "\n",
    "    joblib.dump(knn, \"knn_model.pkl\")\n"
   ]
  }
 ],
 "metadata": {
  "kernelspec": {
   "display_name": "Python 3",
   "language": "python",
   "name": "python3"
  },
  "language_info": {
   "codemirror_mode": {
    "name": "ipython",
    "version": 3
   },
   "file_extension": ".py",
   "mimetype": "text/x-python",
   "name": "python",
   "nbconvert_exporter": "python",
   "pygments_lexer": "ipython3",
   "version": "3.10.7"
  }
 },
 "nbformat": 4,
 "nbformat_minor": 2
}
